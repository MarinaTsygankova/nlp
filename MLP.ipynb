{
 "cells": [
  {
   "cell_type": "markdown",
   "id": "23376ede-b22d-417c-af06-7597cad38fd9",
   "metadata": {},
   "source": [
    "Постройте модель на основе полносвязных слоёв для классификации Fashion MNIST из библиотеки torchvision (datasets). Получите качество на тестовой выборке не ниже 88%.  \n",
    "\n",
    "Инструкция по выполнению задания. \n",
    "\n",
    "1. Скачайте тренировочную и тестовою часть датасета Fashion MNIST\n",
    "2. Постройте модель, выбрав стартовую архитектуру\n",
    "3. Обучите модель и сверьте качество на тестовой части с заданным порогом\n",
    "4. Изменяйте архитектуру модели пока качество на тестовой части не будет выше порога. Вариации архитектуры можно реализовать через изменение количества слоёв, количества нейронов в слоях и использование регуляризации. Можно использовать различные оптимизаторы."
   ]
  },
  {
   "cell_type": "code",
   "execution_count": 1,
   "id": "7b96fab6-432b-4e9f-a82f-9379032e92fe",
   "metadata": {},
   "outputs": [],
   "source": [
    "import matplotlib.pyplot as plt\n",
    "%matplotlib inline\n",
    "\n",
    "import torch\n",
    "import numpy as np\n",
    "import pandas as pd\n",
    "import torchvision as tv\n",
    "import torchvision.transforms as transforms\n",
    "import time"
   ]
  },
  {
   "cell_type": "code",
   "execution_count": 2,
   "id": "3fe76582-6d0d-45f9-b017-35d9f34a93f8",
   "metadata": {},
   "outputs": [],
   "source": [
    "BATCH_SIZE=128\n",
    "train_dataset = tv.datasets.FashionMNIST('.', train=True, transform=tv.transforms.ToTensor(), download=True)\n",
    "test_dataset = tv.datasets.FashionMNIST('.', train=False, transform=tv.transforms.ToTensor(), download=True)\n",
    "train = torch.utils.data.DataLoader(train_dataset, batch_size=BATCH_SIZE)\n",
    "test = torch.utils.data.DataLoader(test_dataset, batch_size=BATCH_SIZE)"
   ]
  },
  {
   "cell_type": "code",
   "execution_count": 3,
   "id": "bf81d0d2-f37b-449b-b185-675a4246ade2",
   "metadata": {},
   "outputs": [
    {
     "data": {
      "text/plain": [
       "torch.Size([1, 28, 28])"
      ]
     },
     "execution_count": 3,
     "metadata": {},
     "output_type": "execute_result"
    }
   ],
   "source": [
    "train_dataset[0][0].shape"
   ]
  },
  {
   "cell_type": "code",
   "execution_count": 4,
   "id": "7d83f7a8-a565-4d16-872d-93cf55f8cc06",
   "metadata": {},
   "outputs": [],
   "source": [
    "model = torch.nn.Sequential(\n",
    "    torch.nn.Flatten(),\n",
    "    torch.nn.Linear(784, 10),\n",
    "    torch.nn.ReLU()\n",
    ")"
   ]
  },
  {
   "cell_type": "code",
   "execution_count": 5,
   "id": "2e8dc6a1-e6ce-4579-8f1e-1d0a025802a7",
   "metadata": {},
   "outputs": [],
   "source": [
    "loss = torch.nn.CrossEntropyLoss()\n",
    "trainer = torch.optim.SGD(model.parameters(), lr=.01)\n",
    "num_epochs = 10"
   ]
  },
  {
   "cell_type": "code",
   "execution_count": 6,
   "id": "9448f4b7-80d4-475a-a1f7-569097589b03",
   "metadata": {},
   "outputs": [],
   "source": [
    "def train_model():\n",
    "    for ep in range(num_epochs):\n",
    "        train_iters, train_passed  = 0, 0\n",
    "        train_loss, train_acc = 0., 0.\n",
    "        start=time.time()\n",
    "        \n",
    "        model.train()\n",
    "        for X, y in train:\n",
    "            trainer.zero_grad()\n",
    "            y_pred = model(X)\n",
    "            l = loss(y_pred, y)\n",
    "            l.backward()\n",
    "            trainer.step()\n",
    "            train_loss += l.item()\n",
    "            train_acc += (y_pred.argmax(dim=1) == y).sum().item()\n",
    "            train_iters += 1\n",
    "            train_passed += len(X)\n",
    "        \n",
    "        test_iters, test_passed  = 0, 0\n",
    "        test_loss, test_acc = 0., 0.\n",
    "        model.eval()\n",
    "        for X, y in test:\n",
    "            y_pred = model(X)\n",
    "            l = loss(y_pred, y)\n",
    "            test_loss += l.item()\n",
    "            test_acc += (y_pred.argmax(dim=1) == y).sum().item()\n",
    "            test_iters += 1\n",
    "            test_passed += len(X)\n",
    "            \n",
    "        print(\"ep: {}, taked: {:.3f}, train_loss: {}, train_acc: {}, test_loss: {}, test_acc: {}\".format(\n",
    "            ep, time.time() - start, train_loss / train_iters, train_acc / train_passed,\n",
    "            test_loss / test_iters, test_acc / test_passed)\n",
    "        )"
   ]
  },
  {
   "cell_type": "code",
   "execution_count": 7,
   "id": "4942179d-5645-4cc0-9a69-2dc76b7faa18",
   "metadata": {},
   "outputs": [
    {
     "name": "stdout",
     "output_type": "stream",
     "text": [
      "ep: 0, taked: 5.177, train_loss: 1.7016190524294432, train_acc: 0.4368666666666667, test_loss: 1.5142080089713954, test_acc: 0.4744\n",
      "ep: 1, taked: 5.002, train_loss: 1.4346487191694377, train_acc: 0.5136166666666667, test_loss: 1.3958521628681617, test_acc: 0.5188\n",
      "ep: 2, taked: 5.010, train_loss: 1.3500586277894628, train_acc: 0.5405833333333333, test_loss: 1.3369727270512641, test_acc: 0.5362\n",
      "ep: 3, taked: 5.349, train_loss: 1.23805799857894, train_acc: 0.5934, test_loss: 1.1224244282215456, test_acc: 0.6341\n",
      "ep: 4, taked: 5.148, train_loss: 1.0768371362930167, train_acc: 0.65215, test_loss: 1.0716954431956327, test_acc: 0.6475\n",
      "ep: 5, taked: 5.173, train_loss: 1.040840032639534, train_acc: 0.6609333333333334, test_loss: 1.0457736389546455, test_acc: 0.6559\n",
      "ep: 6, taked: 5.248, train_loss: 1.0181960528339151, train_acc: 0.66735, test_loss: 1.0272730694541448, test_acc: 0.6617\n",
      "ep: 7, taked: 4.979, train_loss: 1.0012118233038163, train_acc: 0.6730833333333334, test_loss: 1.0129240804080721, test_acc: 0.6661\n",
      "ep: 8, taked: 5.157, train_loss: 0.987630870677769, train_acc: 0.6781, test_loss: 1.0012538900858239, test_acc: 0.6696\n",
      "ep: 9, taked: 5.028, train_loss: 0.9763805538352365, train_acc: 0.6816333333333333, test_loss: 0.9915164746815646, test_acc: 0.6727\n"
     ]
    }
   ],
   "source": [
    "train_model()"
   ]
  },
  {
   "cell_type": "code",
   "execution_count": 8,
   "id": "8341c4d0-53b0-42ab-82a9-98373f128c5c",
   "metadata": {},
   "outputs": [],
   "source": [
    "model = torch.nn.Sequential(\n",
    "    torch.nn.Flatten(),\n",
    "    torch.nn.Linear(784, 256),\n",
    "    torch.nn.ReLU(),\n",
    "    torch.nn.Linear(256, 10)\n",
    ")"
   ]
  },
  {
   "cell_type": "code",
   "execution_count": 9,
   "id": "63a3013d-d064-42e8-95db-a8c301b50482",
   "metadata": {},
   "outputs": [],
   "source": [
    "trainer = torch.optim.SGD(model.parameters(), lr=.01)\n",
    "num_epochs = 10"
   ]
  },
  {
   "cell_type": "code",
   "execution_count": 10,
   "id": "9a984577-c73e-4cd9-914c-69d9d58fdca7",
   "metadata": {},
   "outputs": [
    {
     "name": "stdout",
     "output_type": "stream",
     "text": [
      "ep: 0, taked: 5.613, train_loss: 1.3996451202231939, train_acc: 0.6249833333333333, test_loss: 0.9405898580068275, test_acc: 0.6802\n",
      "ep: 1, taked: 5.561, train_loss: 0.8142721149712991, train_acc: 0.7224666666666667, test_loss: 0.74983533575565, test_acc: 0.7361\n",
      "ep: 2, taked: 5.347, train_loss: 0.6907286261444661, train_acc: 0.7660166666666667, test_loss: 0.6679099183293837, test_acc: 0.7691\n",
      "ep: 3, taked: 5.338, train_loss: 0.6255021498782802, train_acc: 0.7905, test_loss: 0.6180896321429482, test_acc: 0.7857\n",
      "ep: 4, taked: 5.668, train_loss: 0.5831251960319243, train_acc: 0.8054, test_loss: 0.5846508767785905, test_acc: 0.7983\n",
      "ep: 5, taked: 5.447, train_loss: 0.55334476557876, train_acc: 0.8143333333333334, test_loss: 0.5607467033440554, test_acc: 0.8061\n",
      "ep: 6, taked: 5.536, train_loss: 0.5312293526460367, train_acc: 0.8212833333333334, test_loss: 0.542773163394083, test_acc: 0.8124\n",
      "ep: 7, taked: 5.576, train_loss: 0.5140624846349647, train_acc: 0.8265166666666667, test_loss: 0.5286732564998579, test_acc: 0.8156\n",
      "ep: 8, taked: 5.395, train_loss: 0.5002512439990094, train_acc: 0.8300333333333333, test_loss: 0.5172364289247537, test_acc: 0.8197\n",
      "ep: 9, taked: 5.476, train_loss: 0.48882736726356213, train_acc: 0.8332666666666667, test_loss: 0.5077248460884336, test_acc: 0.8232\n"
     ]
    }
   ],
   "source": [
    "train_model()"
   ]
  },
  {
   "cell_type": "code",
   "execution_count": 11,
   "id": "b0a67a56-a92a-4d80-bed1-ea5ce3f3a290",
   "metadata": {},
   "outputs": [],
   "source": [
    "model = torch.nn.Sequential(\n",
    "    torch.nn.Flatten(),\n",
    "    torch.nn.Linear(784, 512),\n",
    "    torch.nn.ReLU(),\n",
    "    torch.nn.Linear(512, 256),\n",
    "    torch.nn.ReLU(),\n",
    "    torch.nn.Linear(256, 128),\n",
    "    torch.nn.ReLU(),\n",
    "    torch.nn.Linear(128, 10)\n",
    ")"
   ]
  },
  {
   "cell_type": "code",
   "execution_count": 12,
   "id": "99fa55fb-d392-42d2-a963-8cbc64e33473",
   "metadata": {},
   "outputs": [],
   "source": [
    "trainer = torch.optim.SGD(model.parameters(), lr=.01)\n",
    "num_epochs = 10"
   ]
  },
  {
   "cell_type": "code",
   "execution_count": 13,
   "id": "e3350ade-d141-4575-8980-320bf7efc325",
   "metadata": {},
   "outputs": [
    {
     "name": "stdout",
     "output_type": "stream",
     "text": [
      "ep: 0, taked: 6.194, train_loss: 2.1650124234177155, train_acc: 0.4069333333333333, test_loss: 1.7764837636223323, test_acc: 0.4418\n",
      "ep: 1, taked: 6.249, train_loss: 1.2697238545936307, train_acc: 0.5462666666666667, test_loss: 1.007527318181871, test_acc: 0.6231\n",
      "ep: 2, taked: 6.371, train_loss: 0.8840221680049449, train_acc: 0.6674166666666667, test_loss: 0.8133070333094536, test_acc: 0.6939\n",
      "ep: 3, taked: 6.064, train_loss: 0.7509583983339989, train_acc: 0.72235, test_loss: 0.7229021002974692, test_acc: 0.7382\n",
      "ep: 4, taked: 6.341, train_loss: 0.6756322275219696, train_acc: 0.757, test_loss: 0.6611461077309861, test_acc: 0.7616\n",
      "ep: 5, taked: 6.233, train_loss: 0.6231480816534078, train_acc: 0.7764666666666666, test_loss: 0.6167278293567368, test_acc: 0.7794\n",
      "ep: 6, taked: 6.361, train_loss: 0.584306109752228, train_acc: 0.7933, test_loss: 0.5836895892891703, test_acc: 0.7927\n",
      "ep: 7, taked: 6.446, train_loss: 0.5540322684911269, train_acc: 0.8049666666666667, test_loss: 0.5581762488884262, test_acc: 0.8039\n",
      "ep: 8, taked: 6.034, train_loss: 0.5298499285793508, train_acc: 0.8139333333333333, test_loss: 0.5381947642640222, test_acc: 0.8112\n",
      "ep: 9, taked: 6.283, train_loss: 0.510087812251882, train_acc: 0.8207666666666666, test_loss: 0.5219615045227582, test_acc: 0.8156\n"
     ]
    }
   ],
   "source": [
    "train_model()"
   ]
  },
  {
   "cell_type": "code",
   "execution_count": 14,
   "id": "adb0bf2e-9670-4219-a13f-fa568090ab62",
   "metadata": {},
   "outputs": [],
   "source": [
    "model = torch.nn.Sequential(\n",
    "    torch.nn.Flatten(),\n",
    "    torch.nn.Linear(784, 256),\n",
    "    torch.nn.ReLU(),\n",
    "    torch.nn.BatchNorm1d(256),\n",
    "    torch.nn.Linear(256, 10)\n",
    ")"
   ]
  },
  {
   "cell_type": "code",
   "execution_count": 15,
   "id": "589d99e4-ec46-49bc-8741-c09d35cf0b50",
   "metadata": {},
   "outputs": [],
   "source": [
    "trainer = torch.optim.SGD(model.parameters(), lr=.01)\n",
    "num_epochs = 10"
   ]
  },
  {
   "cell_type": "code",
   "execution_count": 16,
   "id": "ee4da2ef-a1d3-47eb-98ed-942fd5bb2de6",
   "metadata": {},
   "outputs": [
    {
     "name": "stdout",
     "output_type": "stream",
     "text": [
      "ep: 0, taked: 5.646, train_loss: 0.5870682567294473, train_acc: 0.8095333333333333, test_loss: 0.46556350588798523, test_acc: 0.8389\n",
      "ep: 1, taked: 5.697, train_loss: 0.4126950154807776, train_acc: 0.8583, test_loss: 0.41938952724390394, test_acc: 0.8535\n",
      "ep: 2, taked: 5.588, train_loss: 0.3719282929958311, train_acc: 0.8700333333333333, test_loss: 0.4018903110600725, test_acc: 0.8573\n",
      "ep: 3, taked: 5.428, train_loss: 0.344911246125632, train_acc: 0.8791666666666667, test_loss: 0.38484380686584907, test_acc: 0.8624\n",
      "ep: 4, taked: 5.589, train_loss: 0.3243396333349285, train_acc: 0.8854666666666666, test_loss: 0.377733513052705, test_acc: 0.8645\n",
      "ep: 5, taked: 5.740, train_loss: 0.30730250363410916, train_acc: 0.8911666666666667, test_loss: 0.36695722594291347, test_acc: 0.8662\n",
      "ep: 6, taked: 5.554, train_loss: 0.29501085278830297, train_acc: 0.89495, test_loss: 0.3585036285693132, test_acc: 0.8727\n",
      "ep: 7, taked: 5.727, train_loss: 0.28184882734121797, train_acc: 0.9003666666666666, test_loss: 0.3562389827227291, test_acc: 0.8719\n",
      "ep: 8, taked: 5.415, train_loss: 0.2734544442088873, train_acc: 0.9035833333333333, test_loss: 0.3503687344019926, test_acc: 0.8749\n",
      "ep: 9, taked: 5.572, train_loss: 0.2637134308754, train_acc: 0.9064, test_loss: 0.34864999316161194, test_acc: 0.8737\n"
     ]
    }
   ],
   "source": [
    "train_model()"
   ]
  },
  {
   "cell_type": "code",
   "execution_count": 17,
   "id": "3ffdeb04-1e3a-47cf-9d79-ce2becca498f",
   "metadata": {},
   "outputs": [],
   "source": [
    "model = torch.nn.Sequential(\n",
    "    torch.nn.Flatten(),\n",
    "    torch.nn.Linear(784, 2560),\n",
    "    torch.nn.ReLU(),\n",
    "    torch.nn.Dropout(0.5),\n",
    "    torch.nn.Linear(2560, 640),\n",
    "    torch.nn.ReLU(),\n",
    "    torch.nn.Dropout(0.5),\n",
    "    torch.nn.Linear(640, 10)\n",
    ")"
   ]
  },
  {
   "cell_type": "code",
   "execution_count": 18,
   "id": "961bfe07-551e-4d53-afc0-83342c6d1838",
   "metadata": {},
   "outputs": [],
   "source": [
    "trainer = torch.optim.SGD(model.parameters(), lr=.01)\n",
    "num_epochs = 10"
   ]
  },
  {
   "cell_type": "code",
   "execution_count": 19,
   "id": "9324f906-3f1f-482c-9ef7-4b646be47b45",
   "metadata": {},
   "outputs": [
    {
     "name": "stdout",
     "output_type": "stream",
     "text": [
      "ep: 0, taked: 12.855, train_loss: 1.5964324412061208, train_acc: 0.49953333333333333, test_loss: 0.9734175537205949, test_acc: 0.6635\n",
      "ep: 1, taked: 12.855, train_loss: 0.8851051049700169, train_acc: 0.68105, test_loss: 0.7460513771334781, test_acc: 0.7286\n",
      "ep: 2, taked: 12.700, train_loss: 0.7430795573476535, train_acc: 0.736, test_loss: 0.6608713348455066, test_acc: 0.7636\n",
      "ep: 3, taked: 13.015, train_loss: 0.6691093637999187, train_acc: 0.7662, test_loss: 0.607084937865221, test_acc: 0.786\n",
      "ep: 4, taked: 12.347, train_loss: 0.620769393151757, train_acc: 0.7845166666666666, test_loss: 0.5708023422881018, test_acc: 0.7977\n",
      "ep: 5, taked: 12.659, train_loss: 0.5838083424039487, train_acc: 0.7995666666666666, test_loss: 0.5440943203394926, test_acc: 0.8073\n",
      "ep: 6, taked: 12.530, train_loss: 0.5597801422005269, train_acc: 0.8065833333333333, test_loss: 0.525283216298381, test_acc: 0.8156\n",
      "ep: 7, taked: 13.136, train_loss: 0.537651578500581, train_acc: 0.8140666666666667, test_loss: 0.5090890538088882, test_acc: 0.8192\n",
      "ep: 8, taked: 12.572, train_loss: 0.5210890210767799, train_acc: 0.8187666666666666, test_loss: 0.4965058814121198, test_acc: 0.8233\n",
      "ep: 9, taked: 12.559, train_loss: 0.5079199819168302, train_acc: 0.8230333333333333, test_loss: 0.48537785305252557, test_acc: 0.8266\n"
     ]
    }
   ],
   "source": [
    "train_model()"
   ]
  },
  {
   "cell_type": "code",
   "execution_count": 20,
   "id": "8523c810-12e9-46e3-b49d-ee837bb02fa9",
   "metadata": {},
   "outputs": [],
   "source": [
    "model = torch.nn.Sequential(\n",
    "    torch.nn.Flatten(),\n",
    "    torch.nn.Linear(784, 256),\n",
    "    torch.nn.ReLU(),\n",
    "    torch.nn.BatchNorm1d(256),\n",
    "    torch.nn.Linear(256, 10)\n",
    ")"
   ]
  },
  {
   "cell_type": "code",
   "execution_count": 21,
   "id": "3199cf02-7b5f-4930-9c89-14337bfc0f62",
   "metadata": {},
   "outputs": [],
   "source": [
    "trainer = torch.optim.Adam(model.parameters(), lr=.01)\n",
    "num_epochs = 10"
   ]
  },
  {
   "cell_type": "code",
   "execution_count": 22,
   "id": "27e8db6e-6b0e-44d3-aff7-4184db38d946",
   "metadata": {},
   "outputs": [
    {
     "name": "stdout",
     "output_type": "stream",
     "text": [
      "ep: 0, taked: 5.741, train_loss: 0.4844061788211245, train_acc: 0.8251666666666667, test_loss: 0.4869471407389339, test_acc: 0.8249\n",
      "ep: 1, taked: 5.934, train_loss: 0.3936743134501646, train_acc: 0.85815, test_loss: 0.4679542327228981, test_acc: 0.8409\n",
      "ep: 2, taked: 5.882, train_loss: 0.36199607701698094, train_acc: 0.8688666666666667, test_loss: 0.44849730462213105, test_acc: 0.8468\n",
      "ep: 3, taked: 6.049, train_loss: 0.3376496312206488, train_acc: 0.8768166666666667, test_loss: 0.40291006957428366, test_acc: 0.857\n",
      "ep: 4, taked: 6.114, train_loss: 0.32021517565509655, train_acc: 0.8821666666666667, test_loss: 0.38691831502733354, test_acc: 0.8644\n",
      "ep: 5, taked: 6.191, train_loss: 0.30893919386589197, train_acc: 0.8860333333333333, test_loss: 0.4111422500278376, test_acc: 0.8624\n",
      "ep: 6, taked: 6.208, train_loss: 0.2975260585482949, train_acc: 0.88975, test_loss: 0.41211007120488563, test_acc: 0.862\n",
      "ep: 7, taked: 5.998, train_loss: 0.2886652720889557, train_acc: 0.89225, test_loss: 0.41757403144353555, test_acc: 0.8661\n",
      "ep: 8, taked: 6.173, train_loss: 0.27954882856752317, train_acc: 0.8967, test_loss: 0.42691094532043117, test_acc: 0.866\n",
      "ep: 9, taked: 6.180, train_loss: 0.27181426116398405, train_acc: 0.8982666666666667, test_loss: 0.409142333495466, test_acc: 0.8662\n"
     ]
    }
   ],
   "source": [
    "train_model()"
   ]
  },
  {
   "cell_type": "code",
   "execution_count": 23,
   "id": "a0ec4f02-8637-447e-bc26-843e9b621516",
   "metadata": {},
   "outputs": [],
   "source": [
    "model = torch.nn.Sequential(\n",
    "    torch.nn.Flatten(),\n",
    "    torch.nn.Linear(784, 512),\n",
    "    torch.nn.ReLU(),\n",
    "    torch.nn.BatchNorm1d(512),\n",
    "    torch.nn.Linear(512, 256),\n",
    "    torch.nn.ReLU(),\n",
    "    torch.nn.BatchNorm1d(256),\n",
    "    torch.nn.Linear(256, 128),\n",
    "    torch.nn.ReLU(),\n",
    "    torch.nn.BatchNorm1d(128),\n",
    "    torch.nn.Linear(128, 10)\n",
    ")"
   ]
  },
  {
   "cell_type": "code",
   "execution_count": 24,
   "id": "99d9cef6-f5f6-4b41-92f3-7704cef97df4",
   "metadata": {},
   "outputs": [],
   "source": [
    "trainer = torch.optim.Adam(model.parameters(), lr=.01)\n",
    "num_epochs = 10"
   ]
  },
  {
   "cell_type": "code",
   "execution_count": 25,
   "id": "d566e8fc-cb88-4054-958b-4b072ce1bd96",
   "metadata": {},
   "outputs": [
    {
     "name": "stdout",
     "output_type": "stream",
     "text": [
      "ep: 0, taked: 7.264, train_loss: 0.48737359796759927, train_acc: 0.8198166666666666, test_loss: 0.4912898342443418, test_acc: 0.8241\n",
      "ep: 1, taked: 7.361, train_loss: 0.38654602425439016, train_acc: 0.8560666666666666, test_loss: 0.5136137897077995, test_acc: 0.8145\n",
      "ep: 2, taked: 7.489, train_loss: 0.34979667551100635, train_acc: 0.86965, test_loss: 0.42619315846056877, test_acc: 0.8482\n",
      "ep: 3, taked: 7.813, train_loss: 0.3242322854332324, train_acc: 0.8788333333333334, test_loss: 0.40798549523836447, test_acc: 0.8518\n",
      "ep: 4, taked: 7.702, train_loss: 0.3034930884647471, train_acc: 0.88695, test_loss: 0.3932411631074133, test_acc: 0.8598\n",
      "ep: 5, taked: 7.803, train_loss: 0.29023533449498323, train_acc: 0.8914833333333333, test_loss: 0.40640042269531684, test_acc: 0.8596\n",
      "ep: 6, taked: 7.595, train_loss: 0.2764786295989937, train_acc: 0.8977666666666667, test_loss: 0.4101532327977917, test_acc: 0.8659\n",
      "ep: 7, taked: 7.754, train_loss: 0.265218635294229, train_acc: 0.9009666666666667, test_loss: 0.4331148163050036, test_acc: 0.8662\n",
      "ep: 8, taked: 7.856, train_loss: 0.25456560220418456, train_acc: 0.9047833333333334, test_loss: 2.3320388160174406, test_acc: 0.8666\n",
      "ep: 9, taked: 7.559, train_loss: 0.24143563882946206, train_acc: 0.90925, test_loss: 0.7294900207957135, test_acc: 0.8648\n"
     ]
    }
   ],
   "source": [
    "train_model()"
   ]
  },
  {
   "cell_type": "code",
   "execution_count": 26,
   "id": "4aba6bb6-a092-4924-8401-6ee654508b7c",
   "metadata": {},
   "outputs": [],
   "source": [
    "model = torch.nn.Sequential(\n",
    "    torch.nn.Flatten(),\n",
    "    torch.nn.Linear(784, 512),\n",
    "    torch.nn.ReLU(),\n",
    "    torch.nn.BatchNorm1d(512),\n",
    "    torch.nn.Linear(512, 256),\n",
    "    torch.nn.ReLU(),\n",
    "    torch.nn.BatchNorm1d(256),\n",
    "    torch.nn.Linear(256, 128),\n",
    "    torch.nn.ReLU(),\n",
    "    torch.nn.BatchNorm1d(128),\n",
    "    torch.nn.Linear(128, 10)\n",
    ")"
   ]
  },
  {
   "cell_type": "code",
   "execution_count": 27,
   "id": "b00eacb1-4ca8-4bb5-a2a8-893502e4614c",
   "metadata": {},
   "outputs": [],
   "source": [
    "trainer = torch.optim.RMSprop(model.parameters(), lr=.01)\n",
    "num_epochs = 10"
   ]
  },
  {
   "cell_type": "code",
   "execution_count": 28,
   "id": "deeb6b6a-675a-45f3-9832-a39dcd9a4adf",
   "metadata": {},
   "outputs": [
    {
     "name": "stdout",
     "output_type": "stream",
     "text": [
      "ep: 0, taked: 6.726, train_loss: 0.5404372358881334, train_acc: 0.8049833333333334, test_loss: 0.4963313554283939, test_acc: 0.8251\n",
      "ep: 1, taked: 7.004, train_loss: 0.38995990849761314, train_acc: 0.8552333333333333, test_loss: 0.4490664755053158, test_acc: 0.842\n",
      "ep: 2, taked: 7.002, train_loss: 0.34771604286328056, train_acc: 0.8710833333333333, test_loss: 0.414754246326187, test_acc: 0.8483\n",
      "ep: 3, taked: 7.105, train_loss: 0.31816135137192986, train_acc: 0.8821666666666667, test_loss: 0.4377459763914724, test_acc: 0.8482\n",
      "ep: 4, taked: 6.696, train_loss: 0.2960212174127859, train_acc: 0.8893666666666666, test_loss: 0.43038181390000296, test_acc: 0.8531\n",
      "ep: 5, taked: 6.850, train_loss: 0.27747694266312667, train_acc: 0.8954, test_loss: 0.4264337543068053, test_acc: 0.8647\n",
      "ep: 6, taked: 6.836, train_loss: 0.26407847987182104, train_acc: 0.9004666666666666, test_loss: 0.4121619495032709, test_acc: 0.8598\n",
      "ep: 7, taked: 6.949, train_loss: 0.2475953085431412, train_acc: 0.9049666666666667, test_loss: 0.4094466659935969, test_acc: 0.8618\n",
      "ep: 8, taked: 6.809, train_loss: 0.23936822845229208, train_acc: 0.9095166666666666, test_loss: 0.3975535743410074, test_acc: 0.8657\n",
      "ep: 9, taked: 6.956, train_loss: 0.2274496850809817, train_acc: 0.9139, test_loss: 0.8220564038787461, test_acc: 0.8616\n"
     ]
    }
   ],
   "source": [
    "train_model()"
   ]
  },
  {
   "cell_type": "code",
   "execution_count": 29,
   "id": "179139b5-0847-4ef2-9464-fb4798717051",
   "metadata": {},
   "outputs": [],
   "source": [
    "model = torch.nn.Sequential(\n",
    "    torch.nn.Flatten(),\n",
    "    torch.nn.Linear(784, 512),\n",
    "    torch.nn.ReLU(),\n",
    "    torch.nn.Dropout(0.5),\n",
    "    torch.nn.BatchNorm1d(512),\n",
    "    torch.nn.Linear(512, 256),\n",
    "    torch.nn.ReLU(),\n",
    "    torch.nn.Dropout(0.5),\n",
    "    torch.nn.BatchNorm1d(256),\n",
    "    torch.nn.Linear(256, 128),\n",
    "    torch.nn.ReLU(),\n",
    "    torch.nn.Dropout(0.5),\n",
    "    torch.nn.BatchNorm1d(128),\n",
    "    torch.nn.Linear(128, 10)\n",
    ")"
   ]
  },
  {
   "cell_type": "code",
   "execution_count": 30,
   "id": "907fe311-5539-4caf-ab31-5e6f3540f3f6",
   "metadata": {},
   "outputs": [],
   "source": [
    "trainer = torch.optim.Adam(model.parameters(), lr=.01)\n",
    "num_epochs = 10"
   ]
  },
  {
   "cell_type": "code",
   "execution_count": 31,
   "id": "cd0be71b-9c93-4a8f-b556-ab3ef4bef2ab",
   "metadata": {},
   "outputs": [
    {
     "name": "stdout",
     "output_type": "stream",
     "text": [
      "ep: 0, taked: 7.394, train_loss: 0.6928026308891362, train_acc: 0.7461166666666667, test_loss: 0.5161974499874478, test_acc: 0.821\n",
      "ep: 1, taked: 7.940, train_loss: 0.568504066673169, train_acc: 0.7986666666666666, test_loss: 0.49533548045761977, test_acc: 0.8336\n",
      "ep: 2, taked: 7.875, train_loss: 0.5382526452734526, train_acc: 0.8096833333333333, test_loss: 0.45311844801600976, test_acc: 0.8385\n",
      "ep: 3, taked: 7.931, train_loss: 0.5137144877458177, train_acc: 0.8188833333333333, test_loss: 0.4414772474313084, test_acc: 0.8412\n",
      "ep: 4, taked: 8.089, train_loss: 0.5082014259626108, train_acc: 0.8209333333333333, test_loss: 0.43102669187738923, test_acc: 0.8492\n",
      "ep: 5, taked: 8.218, train_loss: 0.4994320380789385, train_acc: 0.8226666666666667, test_loss: 0.43365675324126135, test_acc: 0.8497\n",
      "ep: 6, taked: 7.808, train_loss: 0.48215906471331743, train_acc: 0.8291166666666666, test_loss: 0.4439719441948058, test_acc: 0.8504\n",
      "ep: 7, taked: 8.054, train_loss: 0.4712269718586001, train_acc: 0.8331, test_loss: 0.43111273646354675, test_acc: 0.8484\n",
      "ep: 8, taked: 8.182, train_loss: 0.4673116027292158, train_acc: 0.8363, test_loss: 0.4092085640641707, test_acc: 0.8575\n",
      "ep: 9, taked: 8.069, train_loss: 0.4625978211858379, train_acc: 0.8367666666666667, test_loss: 0.4424688485981543, test_acc: 0.8534\n"
     ]
    }
   ],
   "source": [
    "train_model()"
   ]
  },
  {
   "cell_type": "code",
   "execution_count": 32,
   "id": "43721a6c-bd90-4db3-b0ca-219920303021",
   "metadata": {},
   "outputs": [],
   "source": [
    "model = torch.nn.Sequential(\n",
    "    torch.nn.Flatten(),\n",
    "    torch.nn.Linear(784, 2560),\n",
    "    torch.nn.ReLU(),\n",
    "    torch.nn.Dropout(0.5),\n",
    "    torch.nn.BatchNorm1d(2560),\n",
    "    torch.nn.Linear(2560, 128),\n",
    "    torch.nn.ReLU(),\n",
    "    torch.nn.Dropout(0.5),\n",
    "    torch.nn.BatchNorm1d(128),\n",
    "    torch.nn.Linear(128, 10)\n",
    ")"
   ]
  },
  {
   "cell_type": "code",
   "execution_count": 33,
   "id": "170cacbf-f276-4321-8b58-637f7b683890",
   "metadata": {},
   "outputs": [],
   "source": [
    "trainer = torch.optim.Adam(model.parameters(), lr=.01)\n",
    "num_epochs = 10"
   ]
  },
  {
   "cell_type": "code",
   "execution_count": 34,
   "id": "8b8be174-05a1-44cd-bc54-02fdbe0a9ace",
   "metadata": {},
   "outputs": [
    {
     "name": "stdout",
     "output_type": "stream",
     "text": [
      "ep: 0, taked: 13.644, train_loss: 0.6012180606439423, train_acc: 0.78205, test_loss: 0.8842642228060131, test_acc: 0.8144\n",
      "ep: 1, taked: 15.209, train_loss: 0.5055163416272795, train_acc: 0.8177833333333333, test_loss: 2.3824616957314406, test_acc: 0.7329\n",
      "ep: 2, taked: 16.112, train_loss: 0.477633545457173, train_acc: 0.8262, test_loss: 0.46754017359093775, test_acc: 0.8457\n",
      "ep: 3, taked: 16.837, train_loss: 0.4620061135495395, train_acc: 0.8344, test_loss: 0.526482364233536, test_acc: 0.8469\n",
      "ep: 4, taked: 16.805, train_loss: 0.4508689435115501, train_acc: 0.8354666666666667, test_loss: 0.5644418321832826, test_acc: 0.8502\n",
      "ep: 5, taked: 16.825, train_loss: 0.4400277541898715, train_acc: 0.8412333333333334, test_loss: 0.5058349902871289, test_acc: 0.8527\n",
      "ep: 6, taked: 17.281, train_loss: 0.4302519623086905, train_acc: 0.8453166666666667, test_loss: 0.5703509449958801, test_acc: 0.857\n",
      "ep: 7, taked: 17.175, train_loss: 0.42117647200759284, train_acc: 0.8483666666666667, test_loss: 0.48823863399934164, test_acc: 0.8589\n",
      "ep: 8, taked: 17.510, train_loss: 0.42177712532884276, train_acc: 0.8477666666666667, test_loss: 0.5541454913872707, test_acc: 0.8597\n",
      "ep: 9, taked: 17.304, train_loss: 0.41288131958386026, train_acc: 0.8516666666666667, test_loss: 0.5695868553240088, test_acc: 0.8529\n"
     ]
    }
   ],
   "source": [
    "train_model()"
   ]
  },
  {
   "cell_type": "code",
   "execution_count": 35,
   "id": "ef29cd83-ad3f-4683-9d4a-c20b28780c22",
   "metadata": {},
   "outputs": [],
   "source": [
    "model = torch.nn.Sequential(\n",
    "    torch.nn.Flatten(),\n",
    "    torch.nn.Linear(784, 1250),\n",
    "    torch.nn.ReLU(),\n",
    "    torch.nn.Dropout(0.5),\n",
    "    torch.nn.BatchNorm1d(1250),\n",
    "    torch.nn.Linear(1250, 512),\n",
    "    torch.nn.ReLU(),\n",
    "    torch.nn.Dropout(0.5),\n",
    "    torch.nn.BatchNorm1d(512),\n",
    "    torch.nn.Linear(512, 256),\n",
    "    torch.nn.ReLU(),\n",
    "    torch.nn.Dropout(0.5),\n",
    "    torch.nn.BatchNorm1d(256),\n",
    "    torch.nn.Linear(256, 128),\n",
    "    torch.nn.ReLU(),\n",
    "    torch.nn.Dropout(0.5),\n",
    "    torch.nn.BatchNorm1d(128),\n",
    "    torch.nn.Linear(128, 10)\n",
    ")"
   ]
  },
  {
   "cell_type": "code",
   "execution_count": 36,
   "id": "f048259a-b424-4844-abf5-dabb1bb7f80f",
   "metadata": {},
   "outputs": [],
   "source": [
    "trainer = torch.optim.Adam(model.parameters(), lr=.01)\n",
    "num_epochs = 10"
   ]
  },
  {
   "cell_type": "code",
   "execution_count": 37,
   "id": "88e59a2b-15dd-4b26-a06f-71923834c15d",
   "metadata": {},
   "outputs": [
    {
     "name": "stdout",
     "output_type": "stream",
     "text": [
      "ep: 0, taked: 11.475, train_loss: 0.7020501094713394, train_acc: 0.7458166666666667, test_loss: 0.8884765407707118, test_acc: 0.8147\n",
      "ep: 1, taked: 11.442, train_loss: 0.577420278843532, train_acc: 0.7984333333333333, test_loss: 1.6608804924578606, test_acc: 0.8254\n",
      "ep: 2, taked: 12.644, train_loss: 0.5408304620907505, train_acc: 0.8115166666666667, test_loss: 0.49685370922088623, test_acc: 0.8374\n",
      "ep: 3, taked: 12.601, train_loss: 0.5132737905104786, train_acc: 0.8195833333333333, test_loss: 0.5096864462653293, test_acc: 0.842\n",
      "ep: 4, taked: 13.077, train_loss: 0.4959651723599383, train_acc: 0.8274333333333334, test_loss: 0.523750367987005, test_acc: 0.8484\n",
      "ep: 5, taked: 13.046, train_loss: 0.48549903347802315, train_acc: 0.8303166666666667, test_loss: 0.6328998308015775, test_acc: 0.8556\n",
      "ep: 6, taked: 12.909, train_loss: 0.48454682487668765, train_acc: 0.8300333333333333, test_loss: 10.271532132278514, test_acc: 0.8515\n",
      "ep: 7, taked: 13.056, train_loss: 0.47304833945689173, train_acc: 0.8346166666666667, test_loss: 10.505844977648952, test_acc: 0.852\n",
      "ep: 8, taked: 12.646, train_loss: 0.46474709363380223, train_acc: 0.83775, test_loss: 0.5402256650260732, test_acc: 0.8515\n",
      "ep: 9, taked: 13.223, train_loss: 0.45354683744881963, train_acc: 0.8409833333333333, test_loss: 0.45191969807389415, test_acc: 0.8577\n"
     ]
    }
   ],
   "source": [
    "train_model()"
   ]
  },
  {
   "cell_type": "code",
   "execution_count": 38,
   "id": "b59aac52-a811-4661-b5e0-49fb3021cd0b",
   "metadata": {},
   "outputs": [],
   "source": [
    "model = torch.nn.Sequential(\n",
    "    torch.nn.Flatten(),\n",
    "    torch.nn.Linear(784, 1250),\n",
    "    torch.nn.ReLU(),\n",
    "    torch.nn.Linear(1250, 512),\n",
    "    torch.nn.ReLU(),\n",
    "    torch.nn.Linear(512, 256),\n",
    "    torch.nn.ReLU(),\n",
    "    torch.nn.Linear(256, 128),\n",
    "    torch.nn.ReLU(),\n",
    "    torch.nn.Dropout(0.5),\n",
    "    torch.nn.BatchNorm1d(128),\n",
    "    torch.nn.Linear(128, 10)\n",
    ")"
   ]
  },
  {
   "cell_type": "code",
   "execution_count": 39,
   "id": "513b3ab0-adf3-471a-a510-8276fd8f90a4",
   "metadata": {},
   "outputs": [],
   "source": [
    "trainer = torch.optim.Adam(model.parameters(), lr=.01)\n",
    "num_epochs = 10"
   ]
  },
  {
   "cell_type": "code",
   "execution_count": 40,
   "id": "9188161a-d5bb-444b-ae78-7d613d35f195",
   "metadata": {},
   "outputs": [
    {
     "name": "stdout",
     "output_type": "stream",
     "text": [
      "ep: 0, taked: 10.865, train_loss: 1.0095461064310216, train_acc: 0.6116166666666667, test_loss: 0.5632213844528681, test_acc: 0.7937\n",
      "ep: 1, taked: 12.388, train_loss: 0.5770721687182688, train_acc: 0.7987833333333333, test_loss: 0.7386319569394558, test_acc: 0.8383\n",
      "ep: 2, taked: 13.623, train_loss: 0.47884672282855395, train_acc: 0.8346833333333333, test_loss: 0.47944573661949064, test_acc: 0.838\n",
      "ep: 3, taked: 13.291, train_loss: 0.4282309130819113, train_acc: 0.85155, test_loss: 0.7161148758251455, test_acc: 0.8519\n",
      "ep: 4, taked: 13.934, train_loss: 0.39870187023809467, train_acc: 0.86045, test_loss: 1.9825844147914573, test_acc: 0.8652\n",
      "ep: 5, taked: 13.282, train_loss: 0.3740018313246241, train_acc: 0.86945, test_loss: 0.4213680624961853, test_acc: 0.866\n",
      "ep: 6, taked: 13.728, train_loss: 0.35064920347763784, train_acc: 0.8779833333333333, test_loss: 0.3878108938283558, test_acc: 0.8677\n",
      "ep: 7, taked: 13.461, train_loss: 0.3341475796661397, train_acc: 0.8809333333333333, test_loss: 0.39076862512510036, test_acc: 0.8686\n",
      "ep: 8, taked: 13.850, train_loss: 0.32083801915650684, train_acc: 0.8845333333333333, test_loss: 0.3583075217431105, test_acc: 0.8789\n",
      "ep: 9, taked: 13.711, train_loss: 0.3119047273006012, train_acc: 0.8894166666666666, test_loss: 0.395072617862798, test_acc: 0.8692\n"
     ]
    }
   ],
   "source": [
    "train_model()"
   ]
  },
  {
   "cell_type": "code",
   "execution_count": 41,
   "id": "2c3acffb-0d46-4683-a4b0-610519aeda0a",
   "metadata": {},
   "outputs": [],
   "source": [
    "model = torch.nn.Sequential(\n",
    "    torch.nn.Flatten(),\n",
    "    torch.nn.Linear(784, 512),\n",
    "    torch.nn.ReLU(),\n",
    "    torch.nn.Linear(512, 128),\n",
    "    torch.nn.ReLU(),\n",
    "    torch.nn.Dropout(0.5),\n",
    "    torch.nn.BatchNorm1d(128),\n",
    "    torch.nn.Linear(128, 10)\n",
    ")"
   ]
  },
  {
   "cell_type": "code",
   "execution_count": 42,
   "id": "8dd59bcb-08fd-4594-a3ef-225aa6381847",
   "metadata": {},
   "outputs": [],
   "source": [
    "trainer = torch.optim.Adam(model.parameters(), lr=.01)\n",
    "num_epochs = 10"
   ]
  },
  {
   "cell_type": "code",
   "execution_count": 43,
   "id": "a8095a4a-179d-44d1-8659-b3d5b7903c98",
   "metadata": {},
   "outputs": [
    {
     "name": "stdout",
     "output_type": "stream",
     "text": [
      "ep: 0, taked: 6.750, train_loss: 0.6978995223035181, train_acc: 0.7500333333333333, test_loss: 0.4764529770310921, test_acc: 0.8312\n",
      "ep: 1, taked: 6.798, train_loss: 0.5183545487013452, train_acc: 0.81685, test_loss: 0.46663782660719716, test_acc: 0.8512\n",
      "ep: 2, taked: 7.171, train_loss: 0.47001587562977887, train_acc: 0.8318333333333333, test_loss: 0.4016511866563483, test_acc: 0.8583\n",
      "ep: 3, taked: 7.226, train_loss: 0.4202747120023536, train_acc: 0.8500333333333333, test_loss: 0.4598609258102465, test_acc: 0.86\n",
      "ep: 4, taked: 7.130, train_loss: 0.3822564820109654, train_acc: 0.8638, test_loss: 0.36590074908129777, test_acc: 0.8673\n",
      "ep: 5, taked: 7.267, train_loss: 0.3872493338038418, train_acc: 0.8588333333333333, test_loss: 0.3717942020938366, test_acc: 0.8648\n",
      "ep: 6, taked: 7.362, train_loss: 0.35073992857800873, train_acc: 0.8737, test_loss: 0.36447673262674596, test_acc: 0.8742\n",
      "ep: 7, taked: 7.365, train_loss: 0.33578062616685816, train_acc: 0.87895, test_loss: 0.3655428746833077, test_acc: 0.8688\n",
      "ep: 8, taked: 7.102, train_loss: 0.32054693723665373, train_acc: 0.8830833333333333, test_loss: 0.3838087574967855, test_acc: 0.8652\n",
      "ep: 9, taked: 7.311, train_loss: 0.3125942983289263, train_acc: 0.8881333333333333, test_loss: 0.35703206713063806, test_acc: 0.8725\n"
     ]
    }
   ],
   "source": [
    "train_model()"
   ]
  },
  {
   "cell_type": "code",
   "execution_count": 44,
   "id": "ec9c67d5-6e1c-480b-acb7-697d35110d0a",
   "metadata": {},
   "outputs": [],
   "source": [
    "model = torch.nn.Sequential(\n",
    "    torch.nn.Flatten(),\n",
    "    torch.nn.Linear(784, 512),\n",
    "    torch.nn.ReLU(),\n",
    "    torch.nn.Linear(512, 256),\n",
    "    torch.nn.ReLU(),\n",
    "    torch.nn.Linear(256, 128),\n",
    "    torch.nn.ReLU(),\n",
    "    torch.nn.BatchNorm1d(128),\n",
    "    torch.nn.Linear(128, 10)\n",
    ")"
   ]
  },
  {
   "cell_type": "code",
   "execution_count": 45,
   "id": "bdc1469d-6114-4269-8a65-c4abaa7bb82e",
   "metadata": {},
   "outputs": [],
   "source": [
    "trainer = torch.optim.NAdam(model.parameters(), lr=.01)\n",
    "num_epochs = 10"
   ]
  },
  {
   "cell_type": "code",
   "execution_count": 46,
   "id": "c9ecf1f3-1b03-4325-8ec2-cc9302122867",
   "metadata": {},
   "outputs": [
    {
     "name": "stdout",
     "output_type": "stream",
     "text": [
      "ep: 0, taked: 7.188, train_loss: 0.5170742955797517, train_acc: 0.8109833333333333, test_loss: 0.47171768112273155, test_acc: 0.8306\n",
      "ep: 1, taked: 7.869, train_loss: 0.3683315847219943, train_acc: 0.8642166666666666, test_loss: 0.3965271954672246, test_acc: 0.8564\n",
      "ep: 2, taked: 7.597, train_loss: 0.3311366995514583, train_acc: 0.8771833333333333, test_loss: 0.3857541956667659, test_acc: 0.8628\n",
      "ep: 3, taked: 8.018, train_loss: 0.3066761795836471, train_acc: 0.8862833333333333, test_loss: 0.3751318040716497, test_acc: 0.8641\n",
      "ep: 4, taked: 8.080, train_loss: 0.2890904584228357, train_acc: 0.8923, test_loss: 0.3834522897495499, test_acc: 0.8631\n",
      "ep: 5, taked: 7.914, train_loss: 0.2732854774321066, train_acc: 0.8979, test_loss: 0.3886354031819331, test_acc: 0.8591\n",
      "ep: 6, taked: 7.866, train_loss: 0.2599241914175975, train_acc: 0.9018333333333334, test_loss: 0.39048995492579064, test_acc: 0.8615\n",
      "ep: 7, taked: 7.910, train_loss: 0.24877065931683157, train_acc: 0.9061333333333333, test_loss: 0.38541887066315245, test_acc: 0.8682\n",
      "ep: 8, taked: 8.109, train_loss: 0.2372270586616449, train_acc: 0.91, test_loss: 0.40181973821754696, test_acc: 0.8596\n",
      "ep: 9, taked: 7.858, train_loss: 0.2357734917069295, train_acc: 0.91025, test_loss: 0.38939142698728585, test_acc: 0.871\n"
     ]
    }
   ],
   "source": [
    "train_model()"
   ]
  },
  {
   "cell_type": "code",
   "execution_count": 64,
   "id": "4512ab2e-7fbb-47fe-85cc-7fb8375c9439",
   "metadata": {},
   "outputs": [],
   "source": [
    "model = torch.nn.Sequential(\n",
    "    torch.nn.Flatten(),\n",
    "    torch.nn.Linear(784, 256),\n",
    "    torch.nn.ReLU(),\n",
    "    torch.nn.BatchNorm1d(256),\n",
    "    torch.nn.Linear(256, 10)\n",
    ")"
   ]
  },
  {
   "cell_type": "code",
   "execution_count": 73,
   "id": "2a3fbf2b-4ed5-415a-ae5b-c7fdd0622d91",
   "metadata": {},
   "outputs": [],
   "source": [
    "trainer = torch.optim.ASGD(model.parameters(), lr=.05)\n",
    "num_epochs = 10"
   ]
  },
  {
   "cell_type": "code",
   "execution_count": 74,
   "id": "e99da6cc-3c96-4ae8-81c9-1885b3dee931",
   "metadata": {},
   "outputs": [
    {
     "name": "stdout",
     "output_type": "stream",
     "text": [
      "ep: 0, taked: 5.785, train_loss: 0.23209441114844545, train_acc: 0.91315, test_loss: 0.3529046943670587, test_acc: 0.8813\n",
      "ep: 1, taked: 5.810, train_loss: 0.2301828177657717, train_acc: 0.9142166666666667, test_loss: 0.35201920889600924, test_acc: 0.8818\n",
      "ep: 2, taked: 5.836, train_loss: 0.228756201260888, train_acc: 0.9145, test_loss: 0.351418352768391, test_acc: 0.8821\n",
      "ep: 3, taked: 5.968, train_loss: 0.22764737225735365, train_acc: 0.9150333333333334, test_loss: 0.3509915761555297, test_acc: 0.8815\n",
      "ep: 4, taked: 5.746, train_loss: 0.22675917253120623, train_acc: 0.9156, test_loss: 0.3506897346505636, test_acc: 0.8822\n",
      "ep: 5, taked: 5.660, train_loss: 0.22601728767220144, train_acc: 0.91605, test_loss: 0.3503744174030763, test_acc: 0.8823\n",
      "ep: 6, taked: 5.802, train_loss: 0.2253774476330926, train_acc: 0.9165166666666666, test_loss: 0.35016559705704076, test_acc: 0.8826\n",
      "ep: 7, taked: 5.763, train_loss: 0.2248194138410249, train_acc: 0.9165833333333333, test_loss: 0.3499790814858449, test_acc: 0.883\n",
      "ep: 8, taked: 5.731, train_loss: 0.2243192149187202, train_acc: 0.9167166666666666, test_loss: 0.3497870981316023, test_acc: 0.8826\n",
      "ep: 9, taked: 5.679, train_loss: 0.2238572128673098, train_acc: 0.9168333333333333, test_loss: 0.34960937141617643, test_acc: 0.8831\n"
     ]
    }
   ],
   "source": [
    "train_model()"
   ]
  },
  {
   "cell_type": "code",
   "execution_count": null,
   "id": "dfa39e20-2667-4513-9ac3-8352f228df05",
   "metadata": {},
   "outputs": [],
   "source": [
    "model = torch.nn.Sequential(\n",
    "    torch.nn.Flatten(),\n",
    "    torch.nn.Linear(784, 256),\n",
    "    torch.nn.ReLU(),\n",
    "    torch.nn.BatchNorm1d(256),\n",
    "    torch.nn.Linear(256, 10)\n",
    ")"
   ]
  },
  {
   "cell_type": "code",
   "execution_count": null,
   "id": "717efc38-b91c-4117-aa92-699bed5b7206",
   "metadata": {},
   "outputs": [],
   "source": []
  }
 ],
 "metadata": {
  "kernelspec": {
   "display_name": "Python 3 (ipykernel)",
   "language": "python",
   "name": "python3"
  },
  "language_info": {
   "codemirror_mode": {
    "name": "ipython",
    "version": 3
   },
   "file_extension": ".py",
   "mimetype": "text/x-python",
   "name": "python",
   "nbconvert_exporter": "python",
   "pygments_lexer": "ipython3",
   "version": "3.10.6"
  }
 },
 "nbformat": 4,
 "nbformat_minor": 5
}
